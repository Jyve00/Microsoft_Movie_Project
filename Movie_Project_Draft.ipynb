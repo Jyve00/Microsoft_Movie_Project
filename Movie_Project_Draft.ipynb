{
 "cells": [
  {
   "cell_type": "code",
   "execution_count": 1,
   "metadata": {},
   "outputs": [
    {
     "name": "stdout",
     "output_type": "stream",
     "text": [
      "DS_Project_Presentation.pdf README.md\r\n",
      "\u001b[34mData\u001b[m\u001b[m                        TEMPLATE_README.md\r\n",
      "Movie_Project_Draft.ipynb   \u001b[34mVisuals\u001b[m\u001b[m\r\n",
      "\u001b[34mNotebooks\u001b[m\u001b[m\r\n"
     ]
    }
   ],
   "source": [
    "!ls"
   ]
  },
  {
   "cell_type": "code",
   "execution_count": 2,
   "metadata": {},
   "outputs": [
    {
     "name": "stdout",
     "output_type": "stream",
     "text": [
      "ls: zippedData: No such file or directory\r\n"
     ]
    }
   ],
   "source": [
    "!ls -a zippedData"
   ]
  },
  {
   "cell_type": "markdown",
   "metadata": {},
   "source": [
    "# Data Merge & Cleaning"
   ]
  },
  {
   "cell_type": "markdown",
   "metadata": {},
   "source": [
    "## Import CSV Files"
   ]
  },
  {
   "cell_type": "code",
   "execution_count": 3,
   "metadata": {},
   "outputs": [
    {
     "ename": "ImportError",
     "evalue": "Unable to import required dependencies:\nnumpy: \n\nIMPORTANT: PLEASE READ THIS FOR ADVICE ON HOW TO SOLVE THIS ISSUE!\n\nImporting the numpy C-extensions failed. This error can happen for\nmany reasons, often due to issues with your setup or how NumPy was\ninstalled.\n\nWe have compiled some common reasons and troubleshooting tips at:\n\n    https://numpy.org/devdocs/user/troubleshooting-importerror.html\n\nPlease note and check the following:\n\n  * The Python version is: Python3.8 from \"/Users/stephen/opt/anaconda3/envs/learn-env/bin/python\"\n  * The NumPy version is: \"1.19.1\"\n\nand make sure that they are the versions you expect.\nPlease carefully study the documentation linked above for further help.\n\nOriginal error was: dlopen(/Users/stephen/opt/anaconda3/envs/learn-env/lib/python3.8/site-packages/numpy/core/_multiarray_umath.cpython-38-darwin.so, 2): Library not loaded: @rpath/libopenblas.dylib\n  Referenced from: /Users/stephen/opt/anaconda3/envs/learn-env/lib/python3.8/site-packages/numpy/core/_multiarray_umath.cpython-38-darwin.so\n  Reason: image not found\n",
     "output_type": "error",
     "traceback": [
      "\u001b[0;31m---------------------------------------------------------------------------\u001b[0m",
      "\u001b[0;31mImportError\u001b[0m                               Traceback (most recent call last)",
      "\u001b[0;32m/var/folders/m3/ywsrz7k170vbk8511l1h_6840000gn/T/ipykernel_98618/4080736814.py\u001b[0m in \u001b[0;36m<module>\u001b[0;34m\u001b[0m\n\u001b[0;32m----> 1\u001b[0;31m \u001b[0;32mimport\u001b[0m \u001b[0mpandas\u001b[0m \u001b[0;32mas\u001b[0m \u001b[0mpd\u001b[0m\u001b[0;34m\u001b[0m\u001b[0;34m\u001b[0m\u001b[0m\n\u001b[0m",
      "\u001b[0;32m~/opt/anaconda3/envs/learn-env/lib/python3.8/site-packages/pandas/__init__.py\u001b[0m in \u001b[0;36m<module>\u001b[0;34m\u001b[0m\n\u001b[1;32m     14\u001b[0m \u001b[0;34m\u001b[0m\u001b[0m\n\u001b[1;32m     15\u001b[0m \u001b[0;32mif\u001b[0m \u001b[0mmissing_dependencies\u001b[0m\u001b[0;34m:\u001b[0m\u001b[0;34m\u001b[0m\u001b[0;34m\u001b[0m\u001b[0m\n\u001b[0;32m---> 16\u001b[0;31m     raise ImportError(\n\u001b[0m\u001b[1;32m     17\u001b[0m         \u001b[0;34m\"Unable to import required dependencies:\\n\"\u001b[0m \u001b[0;34m+\u001b[0m \u001b[0;34m\"\\n\"\u001b[0m\u001b[0;34m.\u001b[0m\u001b[0mjoin\u001b[0m\u001b[0;34m(\u001b[0m\u001b[0mmissing_dependencies\u001b[0m\u001b[0;34m)\u001b[0m\u001b[0;34m\u001b[0m\u001b[0;34m\u001b[0m\u001b[0m\n\u001b[1;32m     18\u001b[0m     )\n",
      "\u001b[0;31mImportError\u001b[0m: Unable to import required dependencies:\nnumpy: \n\nIMPORTANT: PLEASE READ THIS FOR ADVICE ON HOW TO SOLVE THIS ISSUE!\n\nImporting the numpy C-extensions failed. This error can happen for\nmany reasons, often due to issues with your setup or how NumPy was\ninstalled.\n\nWe have compiled some common reasons and troubleshooting tips at:\n\n    https://numpy.org/devdocs/user/troubleshooting-importerror.html\n\nPlease note and check the following:\n\n  * The Python version is: Python3.8 from \"/Users/stephen/opt/anaconda3/envs/learn-env/bin/python\"\n  * The NumPy version is: \"1.19.1\"\n\nand make sure that they are the versions you expect.\nPlease carefully study the documentation linked above for further help.\n\nOriginal error was: dlopen(/Users/stephen/opt/anaconda3/envs/learn-env/lib/python3.8/site-packages/numpy/core/_multiarray_umath.cpython-38-darwin.so, 2): Library not loaded: @rpath/libopenblas.dylib\n  Referenced from: /Users/stephen/opt/anaconda3/envs/learn-env/lib/python3.8/site-packages/numpy/core/_multiarray_umath.cpython-38-darwin.so\n  Reason: image not found\n"
     ]
    }
   ],
   "source": [
    "import pandas as pd"
   ]
  },
  {
   "cell_type": "code",
   "execution_count": null,
   "metadata": {},
   "outputs": [],
   "source": [
    "# Create Dataframes\n",
    "n_b = pd.read_csv('name.basics.csv')"
   ]
  },
  {
   "cell_type": "code",
   "execution_count": null,
   "metadata": {},
   "outputs": [],
   "source": [
    "t_a = pd.read_csv('title.akas.csv')"
   ]
  },
  {
   "cell_type": "code",
   "execution_count": null,
   "metadata": {},
   "outputs": [],
   "source": [
    "t_b = pd.read_csv('title.basics.csv')"
   ]
  },
  {
   "cell_type": "code",
   "execution_count": null,
   "metadata": {},
   "outputs": [],
   "source": [
    "t_p = pd.read_csv('title.principals.csv')"
   ]
  },
  {
   "cell_type": "code",
   "execution_count": null,
   "metadata": {},
   "outputs": [],
   "source": [
    "m_b = pd.read_csv('tn.movie_budgets.csv')"
   ]
  },
  {
   "cell_type": "code",
   "execution_count": null,
   "metadata": {},
   "outputs": [],
   "source": [
    "# Find columns to merge on\n",
    "print('< n_b >')\n",
    "print(n_b.info())\n",
    "print()\n",
    "print('< t_a >')\n",
    "print(t_a.info())\n",
    "print()\n",
    "print('< t_b >')\n",
    "print(t_b.info())\n",
    "print()\n",
    "print('< t_p >')\n",
    "print(t_p.info())\n",
    "print()\n",
    "print('< m_b >')\n",
    "print(m_b.info())\n",
    "print()"
   ]
  },
  {
   "cell_type": "markdown",
   "metadata": {},
   "source": [
    "Common column names for imdb files are tconst and nconst.\n",
    "\n",
    "However, we need title and year to merge tn.movie_budgets.csv with imdb dataframes "
   ]
  },
  {
   "cell_type": "markdown",
   "metadata": {},
   "source": [
    "## Dataframe Cleaning"
   ]
  },
  {
   "cell_type": "markdown",
   "metadata": {},
   "source": [
    "Clean the dataframes before merge"
   ]
  },
  {
   "cell_type": "markdown",
   "metadata": {},
   "source": [
    "### name.basics"
   ]
  },
  {
   "cell_type": "code",
   "execution_count": null,
   "metadata": {},
   "outputs": [],
   "source": [
    "# n_b\n",
    "# drop irrelevant columns\n",
    "n_b = n_b.drop('birth_year', 1)\n",
    "# drop any people who are dead\n",
    "n_b = n_b[n_b['death_year'].isna()]\n",
    "# drop death year because no longer relevant\n",
    "n_b = n_b.drop('death_year', 1)\n",
    "# drop na values in title id\n",
    "n_b = n_b[n_b['known_for_titles'].notna()]\n",
    "# drop na values in primary profession\n",
    "n_b = n_b[n_b['primary_profession'].notna()]\n",
    "\n",
    "n_b.info()"
   ]
  },
  {
   "cell_type": "markdown",
   "metadata": {},
   "source": [
    "### title.akas"
   ]
  },
  {
   "cell_type": "code",
   "execution_count": null,
   "metadata": {},
   "outputs": [],
   "source": [
    "# drop irrelevant columns\n",
    "t_a = t_a.drop(columns = ['language', 'types', 'attributes'])\n",
    "# only want original titles to get rid of repeats\n",
    "is_original_title = t_a['is_original_title'] == 1\n",
    "is_original_title = t_a[is_original_title]\n",
    "t_a = is_original_title\n",
    "# drop irrelevant columns \n",
    "t_a = t_a.drop('region', 1)\n",
    "t_a = t_a.drop('ordering', 1)\n",
    "# convert column title_id to tconst for merge\n",
    "t_a['tconst'] = t_a['title_id']\n",
    "t_a = t_a.drop('title_id', 1)\n",
    "\n",
    "t_a.info()"
   ]
  },
  {
   "cell_type": "markdown",
   "metadata": {},
   "source": [
    "### title.basics"
   ]
  },
  {
   "cell_type": "code",
   "execution_count": null,
   "metadata": {},
   "outputs": [],
   "source": [
    "# drop irrelevant column\n",
    "t_b = t_b.drop('runtime_minutes', 1)\n",
    "# drop na values in genres \n",
    "t_b = t_b[t_b['genres'].notna()]\n",
    "# drop og title becaus it is not needed\n",
    "t_b = t_b.drop('original_title', 1)\n",
    "\n",
    "t_b"
   ]
  },
  {
   "cell_type": "code",
   "execution_count": null,
   "metadata": {},
   "outputs": [],
   "source": [
    "t_b['genres'] = t_b['genres'].str.split(\",\")\n",
    "t_b['genres'] = t_b['genres'].tolist()\n",
    "t_b = t_b.explode('genres')\n",
    "t_b"
   ]
  },
  {
   "cell_type": "code",
   "execution_count": null,
   "metadata": {},
   "outputs": [],
   "source": [
    "t_b.info()"
   ]
  },
  {
   "cell_type": "markdown",
   "metadata": {},
   "source": [
    "### title.principals"
   ]
  },
  {
   "cell_type": "code",
   "execution_count": null,
   "metadata": {},
   "outputs": [],
   "source": [
    "# drop irrelevant columns\n",
    "t_p = t_p.drop(columns = ['characters', 'ordering', 'job'])\n",
    "# Renamed column category to job\n",
    "t_p.rename({'category':'job'}, axis = 1, inplace = True)\n",
    "t_p.info()"
   ]
  },
  {
   "cell_type": "code",
   "execution_count": null,
   "metadata": {},
   "outputs": [],
   "source": [
    "t_p.head()"
   ]
  },
  {
   "cell_type": "markdown",
   "metadata": {},
   "source": [
    "### tn.movie_budgets"
   ]
  },
  {
   "cell_type": "code",
   "execution_count": null,
   "metadata": {},
   "outputs": [],
   "source": [
    "# Extract month and year from the column release date\n",
    "# Create column month and year\n",
    "# Name year column as start_year for merge\n",
    "pd.to_datetime(m_b['release_date'])\n",
    "m_b['month'] = pd.DatetimeIndex(m_b['release_date']).month\n",
    "m_b['start_year'] = pd.DatetimeIndex(m_b['release_date']).year\n",
    "# drop irrelevant columns\n",
    "m_b = m_b.drop(columns=['release_date', 'id', 'domestic_gross'], axis = 1)\n",
    "# rename column movie to title for merge\n",
    "m_b.rename({'movie' : 'title'}, axis = 1, inplace=True)\n",
    "m_b.head()"
   ]
  },
  {
   "cell_type": "code",
   "execution_count": null,
   "metadata": {},
   "outputs": [],
   "source": [
    "# Current type of the budget and gross is object\n",
    "# Remove $ and , and change type to float\n",
    "m_b[m_b.columns[1:]] = m_b[m_b.columns[1:]].replace('[\\$,]', '', regex=True).astype(float)\n",
    "# Create column profit\n",
    "m_b['profit'] = m_b['worldwide_gross'] - m_b['production_budget']\n",
    "# Create return on investment ratio (ROI)\n",
    "m_b['ROI'] = m_b['profit']*100/m_b['production_budget']\n",
    "m_b.head()"
   ]
  },
  {
   "cell_type": "code",
   "execution_count": null,
   "metadata": {},
   "outputs": [],
   "source": [
    "m_b.info()"
   ]
  },
  {
   "cell_type": "markdown",
   "metadata": {},
   "source": [
    "## Data Merge"
   ]
  },
  {
   "cell_type": "code",
   "execution_count": null,
   "metadata": {},
   "outputs": [],
   "source": [
    "# inner merge name.basics with title.principals on column nconst\n",
    "df1 = n_b.merge(t_p, on = 'nconst', how = 'inner')\n",
    "df1.head()"
   ]
  },
  {
   "cell_type": "code",
   "execution_count": null,
   "metadata": {},
   "outputs": [],
   "source": [
    "# inner merge previous dataframe with title.akas on column tconst\n",
    "df2 = df1.merge(t_a, on='tconst', how = 'inner')\n",
    "df2.head()"
   ]
  },
  {
   "cell_type": "code",
   "execution_count": null,
   "metadata": {},
   "outputs": [],
   "source": [
    "# inner merge previous dataframe with title.basics on column tconst\n",
    "df3 = df2.merge(t_b, on='tconst', how ='inner')\n",
    "df3"
   ]
  },
  {
   "cell_type": "code",
   "execution_count": null,
   "metadata": {},
   "outputs": [],
   "source": [
    "# inner merge previous dataframe with tn.movie_budgets on multiple columns (title , start_year) \n",
    "final_df = df3.merge(m_b, on=['title', 'start_year'], how = 'inner')\n",
    "final_df.head()"
   ]
  },
  {
   "cell_type": "markdown",
   "metadata": {},
   "source": [
    "## Clean Final Dataframe"
   ]
  },
  {
   "cell_type": "code",
   "execution_count": null,
   "metadata": {},
   "outputs": [],
   "source": [
    "# drop irrelevant columns\n",
    "final_df = final_df.drop(columns = ['is_original_title', 'tconst', 'primary_title', 'nconst','primary_profession','known_for_titles'])\n",
    "final_df.head()"
   ]
  },
  {
   "cell_type": "code",
   "execution_count": null,
   "metadata": {},
   "outputs": [],
   "source": [
    "# Reorganize the columns\n",
    "# Make a list of column names\n",
    "cols = final_df.columns.tolist()\n",
    "cols"
   ]
  },
  {
   "cell_type": "code",
   "execution_count": null,
   "metadata": {},
   "outputs": [],
   "source": [
    "# Reorganize the columns and apply\n",
    "cols = ['title','genres','start_year', 'month','primary_name','job','production_budget','worldwide_gross','profit','ROI']\n",
    "final_df = final_df[cols]\n",
    "final_df.head()"
   ]
  },
  {
   "cell_type": "code",
   "execution_count": null,
   "metadata": {},
   "outputs": [],
   "source": [
    "# Changing job values\n",
    "# Check the values inf column job\n",
    "final_df['job'].value_counts()"
   ]
  },
  {
   "cell_type": "code",
   "execution_count": null,
   "metadata": {},
   "outputs": [],
   "source": [
    "# Actress& Self is basically same job with actor  \n",
    "# Therefore, witch those values to actor in case we use the column\n",
    "final_df.iloc[final_df['job'] == 'self', final_df.columns.get_loc('job')] = 'actor'\n",
    "final_df.iloc[final_df['job'] == 'actress', final_df.columns.get_loc('job')] = 'actor'\n",
    "final_df['job'].value_counts()"
   ]
  },
  {
   "cell_type": "code",
   "execution_count": null,
   "metadata": {},
   "outputs": [],
   "source": [
    "# Convert Column Names\n",
    "final_df.rename(columns = {'genres':'Genres', \n",
    "           'job': 'Staff_role', \n",
    "           'start_year': 'Released_year', \n",
    "           'title': 'Title', \n",
    "           'primary_name': 'Staff_name', \n",
    "           'production_budget': 'Investment', \n",
    "           'worldwide_gross': 'Revenue',\n",
    "           'month':'Released_month',\n",
    "           'profit':'Profit'}, inplace = True)\n",
    "final_df"
   ]
  },
  {
   "cell_type": "code",
   "execution_count": null,
   "metadata": {},
   "outputs": [],
   "source": [
    "final_df.info()"
   ]
  },
  {
   "cell_type": "markdown",
   "metadata": {},
   "source": [
    "# Genre Analysis"
   ]
  },
  {
   "cell_type": "code",
   "execution_count": null,
   "metadata": {},
   "outputs": [],
   "source": [
    "# Import python tools for visualization\n",
    "import matplotlib.pyplot as plt\n",
    "%matplotlib inline"
   ]
  },
  {
   "cell_type": "code",
   "execution_count": null,
   "metadata": {},
   "outputs": [],
   "source": [
    "# Genre Frequency Analysis\n",
    "# Create a figure and axis\n",
    "fig, ax = plt.subplots(figsize=(15,6))\n",
    "# Count the frequency in each genre\n",
    "data = final_df['Genres'].value_counts().head(10)\n",
    "# Get x and y data\n",
    "x = data.index\n",
    "y = data.values \n",
    "# Create bar chart\n",
    "ax.bar(x, y) \n",
    "# Set title and labels\n",
    "ax.set_title('Top 10 Genres based on frequency')\n",
    "ax.set_xlabel('Genre')\n",
    "ax.set_ylabel('Frequency')\n",
    "# Save figure\n",
    "#plt.savefig('Top Genre Frequency.png')"
   ]
  },
  {
   "cell_type": "code",
   "execution_count": null,
   "metadata": {},
   "outputs": [],
   "source": [
    "# Genre ROI Analysis\n",
    "# Create a figure and axis\n",
    "fig, ax = plt.subplots(figsize=(15,6))\n",
    "# Calculate the mean ROI of each genre and find top 10 genre\n",
    "ROI_data = final_df.groupby(['Genres']).ROI.mean()\n",
    "ROI_data = ROI_data.sort_values(ascending= False).head(10)\n",
    "# Get x and y data\n",
    "x = ROI_data.index\n",
    "y = ROI_data.values \n",
    "# Create bar chart\n",
    "ax.bar(x, y) \n",
    "# Set title and labels\n",
    "ax.set_title('Top 10 Genres based on ROI')\n",
    "ax.set_xlabel('Genre')\n",
    "ax.set_ylabel('ROI')\n",
    "# Save figure\n",
    "#plt.savefig('Top Genre ROI.png')"
   ]
  },
  {
   "cell_type": "code",
   "execution_count": null,
   "metadata": {},
   "outputs": [],
   "source": [
    "# Genre Profit Analysis\n",
    "# Create a figure and axis\n",
    "fig, ax = plt.subplots(figsize=(15,6))\n",
    "# Calculate the mean profit of each genre and find top 10 genre\n",
    "profit_data = final_df.groupby(['Genres']).Profit.mean()\n",
    "profit_data = profit_data.sort_values(ascending= False).head(10)\n",
    "# Get x and y data\n",
    "x = profit_data.index\n",
    "y = profit_data.values \n",
    "# Create bar chart\n",
    "ax.bar(x, y) \n",
    "# Set title and labels\n",
    "ax.set_title('Top 10 Genres based on Profit')\n",
    "ax.set_xlabel('Genre')\n",
    "ax.set_ylabel('Worldwide Profit (M)')\n",
    "# Save figure\n",
    "#plt.savefig('Top Genre Profit.png')"
   ]
  },
  {
   "cell_type": "code",
   "execution_count": null,
   "metadata": {},
   "outputs": [],
   "source": [
    "# Import Seaborn for box plot\n",
    "import seaborn as sns"
   ]
  },
  {
   "cell_type": "code",
   "execution_count": null,
   "metadata": {},
   "outputs": [],
   "source": [
    "# Create a dataframe for genre with top 3 profit\n",
    "top3 = final_df.loc[(final_df['Genres'] == 'Animation')|(final_df['Genres'] == 'Sci-Fi')|(final_df['Genres'] == 'Adventure')]\n",
    "top3.head()"
   ]
  },
  {
   "cell_type": "code",
   "execution_count": null,
   "metadata": {},
   "outputs": [],
   "source": [
    "fig, ax = plt.subplots(figsize=(10,6))\n",
    "sns.set_style('whitegrid')\n",
    "ax = sns.boxplot(x='Genres', y = 'Profit', data= top3)\n",
    "ax.set_title('Profit Distribution for Top 3 Genre')\n",
    "#plt.savefig('Box Plot Genre Profit.png')"
   ]
  },
  {
   "cell_type": "code",
   "execution_count": null,
   "metadata": {},
   "outputs": [],
   "source": [
    "fig, ax = plt.subplots(figsize=(10,6))\n",
    "ax = sns.boxplot(x='Genres', y = 'ROI', data= top3)\n",
    "ax.set_title('ROI Distribution for Top 3 Genre')\n",
    "#plt.savefig('Box Plot Genre ROI.png')"
   ]
  },
  {
   "cell_type": "code",
   "execution_count": null,
   "metadata": {},
   "outputs": [],
   "source": [
    "def genre_profit(genre):\n",
    "    \"\"\"\n",
    "    Function which prints out the statistical data for profit and ROI for each genre inf final_df\n",
    "    if the genre name is entered in string\n",
    "    \"\"\"\n",
    "    sample_df = final_df.loc[final_df['Genres'] == genre]\n",
    "    print(genre)\n",
    "    print('<Profit in Millions>')\n",
    "    print(sample_df['Profit'].describe()/10**6)\n",
    "    print()\n",
    "    print('<ROI>')\n",
    "    print(sample_df['ROI'].describe())\n",
    "    print()"
   ]
  },
  {
   "cell_type": "code",
   "execution_count": null,
   "metadata": {},
   "outputs": [],
   "source": [
    "# Find statistical data for Adventure Movies\n",
    "genre_profit('Adventure')"
   ]
  },
  {
   "cell_type": "code",
   "execution_count": null,
   "metadata": {},
   "outputs": [],
   "source": [
    "# Find statistical data for Animation Movies\n",
    "genre_profit('Animation')"
   ]
  },
  {
   "cell_type": "code",
   "execution_count": null,
   "metadata": {},
   "outputs": [],
   "source": [
    "# Find statistical data for Sci-Fi Movies\n",
    "genre_profit('Sci-Fi')"
   ]
  },
  {
   "cell_type": "markdown",
   "metadata": {},
   "source": [
    "# Month to Release Film"
   ]
  },
  {
   "cell_type": "code",
   "execution_count": null,
   "metadata": {},
   "outputs": [],
   "source": [
    "# Suggest the month to release film based on ROI average per month\n",
    "# Animation Film\n",
    "g_df=final_df[final_df['Genres']=='Animation']\n",
    "g_df = g_df.drop_duplicates('Title')\n",
    "ga_data = g_df.groupby(['Released_month']).ROI.mean()\n",
    "# Genre ROI Analysis\n",
    "# Create a figure and axis\n",
    "fig, ax = plt.subplots(figsize=(15,6))\n",
    "# Get x and y data\n",
    "x = ga_data.index\n",
    "y = ga_data.values \n",
    "# Create bar chart\n",
    "ax.bar(x, y) \n",
    "# Set title and labels\n",
    "ax.set_title('Animation Movie ROI by Month')\n",
    "ax.set_xlabel('Month')\n",
    "ax.set_ylabel('ROI (%)')\n",
    "\n",
    "# Set tick labels as name of the month corresponding the number\n",
    "months =['January','February', 'March', 'April', 'May', 'June', 'July','August', 'September', 'October', 'November', 'December']\n",
    "months_num = range(1,13)\n",
    "\n",
    "ax.set_xticks(months_num)\n",
    "ax.set_xticklabels(months)\n",
    "# Save figure\n",
    "#plt.savefig('Anime Monthly ROI.png')"
   ]
  },
  {
   "cell_type": "code",
   "execution_count": null,
   "metadata": {},
   "outputs": [],
   "source": [
    "# Suggest the month to release film based on ROI average per month\n",
    "# Adventure Film\n",
    "g_df=final_df[final_df['Genres']=='Adventure']\n",
    "g_df = g_df.drop_duplicates('Title')\n",
    "ga_data = g_df.groupby(['Released_month']).ROI.mean()\n",
    "# Genre ROI Analysis\n",
    "# Create a figure and axis\n",
    "fig, ax = plt.subplots(figsize=(15,6))\n",
    "# Get x and y data\n",
    "x = ga_data.index\n",
    "y = ga_data.values \n",
    "# Create bar chart\n",
    "ax.bar(x, y) \n",
    "# Set title and labels\n",
    "ax.set_title('Adventure Movie ROI by Month')\n",
    "ax.set_xlabel('Month')\n",
    "ax.set_ylabel('ROI (%)')\n",
    "\n",
    "# Set tick labels as name of the month corresponding the number\n",
    "months =['January','February', 'March', 'April', 'May', 'June', 'July','August', 'September', 'October', 'November', 'December']\n",
    "months_num = range(1,13)\n",
    "\n",
    "ax.set_xticks(months_num)\n",
    "ax.set_xticklabels(months)\n",
    "# Save figure\n",
    "#plt.savefig('Adventure Monthly ROI.png')"
   ]
  },
  {
   "cell_type": "code",
   "execution_count": null,
   "metadata": {},
   "outputs": [],
   "source": [
    "# Suggest the month to release film based on ROI average per month\n",
    "# Sci-Fi Film\n",
    "g_df=final_df[final_df['Genres']=='Sci-Fi']\n",
    "g_df = g_df.drop_duplicates('Title')\n",
    "ga_data = g_df.groupby(['Released_month']).ROI.mean()\n",
    "# Genre ROI Analysis\n",
    "# Create a figure and axis\n",
    "fig, ax = plt.subplots(figsize=(15,6))\n",
    "# Get x and y data\n",
    "x = ga_data.index\n",
    "y = ga_data.values \n",
    "# Create bar chart\n",
    "ax.bar(x, y) \n",
    "# Set title and labels\n",
    "ax.set_title('Sci-Fi Movie ROI by Month')\n",
    "ax.set_xlabel('Month')\n",
    "ax.set_ylabel('ROI (%)')\n",
    "\n",
    "# Set tick labels as name of the month corresponding the number\n",
    "months =['January','February', 'March', 'April', 'May', 'June', 'July','August', 'September', 'October', 'November', 'December']\n",
    "months_num = range(1,13)\n",
    "\n",
    "ax.set_xticks(months_num)\n",
    "ax.set_xticklabels(months)\n",
    "# Save figure\n",
    "#plt.savefig('Sci-Fi Monthly ROI.png')"
   ]
  },
  {
   "cell_type": "code",
   "execution_count": null,
   "metadata": {},
   "outputs": [],
   "source": [
    "final_df"
   ]
  },
  {
   "cell_type": "code",
   "execution_count": null,
   "metadata": {},
   "outputs": [],
   "source": [
    "directors = final_df[final_df.Staff_role == 'director']\n"
   ]
  },
  {
   "cell_type": "code",
   "execution_count": null,
   "metadata": {},
   "outputs": [],
   "source": [
    "unique_titles_df = directors.drop_duplicates(subset= ['Title'])"
   ]
  },
  {
   "cell_type": "code",
   "execution_count": null,
   "metadata": {},
   "outputs": [],
   "source": [
    "profit_directors = unique_titles_df.groupby('Staff_name')['Profit'].sum().sort_values(ascending=False)\n",
    "top_50_directors = profit_directors.nlargest(50)\n",
    "top_50_directors_profit = top_50_directors.values.sum()\n",
    "total_profit = unique_titles_df['Profit'].sum()\n",
    "top_50_directors_profit_perc = top_50_directors_profit/total_profit\n",
    "rest_profit = 1 - top_50_directors_profit_perc "
   ]
  },
  {
   "cell_type": "code",
   "execution_count": null,
   "metadata": {},
   "outputs": [],
   "source": [
    "unique_titles_df"
   ]
  },
  {
   "cell_type": "code",
   "execution_count": null,
   "metadata": {},
   "outputs": [],
   "source": [
    "import matplotlib.pyplot as plt\n",
    "\n",
    "my_data = [rest_profit, top_50_directors_profit_perc]\n",
    "my_labels = 'Directors Outside the Top 50', 'Top 50 Directors by Profit'\n",
    "my_colors = ['lightblue','silver']\n",
    "my_explode = (0, 0.1)\n",
    "plt.pie(my_data,labels = my_labels,autopct='%1.1f%%', startangle=15, shadow = True, colors=my_colors, explode=my_explode)\n",
    "plt.title('Total Profit')\n",
    "plt.axis('equal')\n",
    "plt.show()"
   ]
  },
  {
   "cell_type": "code",
   "execution_count": null,
   "metadata": {},
   "outputs": [],
   "source": [
    "# 3 in 1 Bar chart\n",
    "# Create datasets for top 3 genres\n",
    "g1_df=final_df[final_df['Genres']=='Animation']\n",
    "g1_df = g1_df.drop_duplicates('Title')\n",
    "g1a_data = g1_df.groupby(['Released_month']).ROI.mean()\n",
    "g2_df=final_df[final_df['Genres']=='Adventure']\n",
    "g2_df = g2_df.drop_duplicates('Title')\n",
    "g2a_data = g2_df.groupby(['Released_month']).ROI.mean()\n",
    "g3_df=final_df[final_df['Genres']=='Sci-Fi']\n",
    "g3_df = g3_df.drop_duplicates('Title')\n",
    "g3a_data = g3_df.groupby(['Released_month']).ROI.mean()\n",
    "\n",
    "# Create a figure and axis\n",
    "fig, ax = plt.subplots(figsize=(15,6))\n",
    "\n",
    "# Get x and y data\n",
    "x1 = g1a_data.index\n",
    "y1 = g1a_data.values\n",
    "x2 = g2a_data.index\n",
    "y2 = g2a_data.values\n",
    "x3 = g3a_data.index\n",
    "y3 = g3a_data.values\n",
    "\n",
    "# Create Animation bar chart 0.25 left to the center and assign unique color\n",
    "ax.bar(x1-0.25, y1, width= 0.25, color='navy')\n",
    "# Create Adventure bar chart on the center and assign unique color\n",
    "ax.bar(x2, y2, width = 0.25, color='green')\n",
    "# Create Sci-Fi bar chart 0.25 right to the center and assign unique color\n",
    "ax.bar(x3+0.25, y3, width = 0.25, color='darkorange')\n",
    "\n",
    "# Set tick labels as name of the month corresponding the number\n",
    "months =['January','February', 'March', 'April', 'May', 'June', 'July','August', 'September', 'October', 'November', 'December']\n",
    "months_num = range(1,13)\n",
    "ax.set_xticks(months_num)\n",
    "ax.set_xticklabels(months)\n",
    "# Set title, labels, and legend\n",
    "ax.set_title('ROI by Month')\n",
    "ax.set_xlabel('Month')\n",
    "ax.set_ylabel('ROI (%)')\n",
    "ax.legend([\"Animation\", \"Adventure\", \"Sci-Fi\"])\n",
    "# Save figure\n",
    "plt.savefig('Monthly ROI.png')"
   ]
  },
  {
   "cell_type": "code",
   "execution_count": null,
   "metadata": {},
   "outputs": [],
   "source": []
  },
  {
   "cell_type": "code",
   "execution_count": null,
   "metadata": {},
   "outputs": [],
   "source": []
  }
 ],
 "metadata": {
  "kernelspec": {
   "display_name": "Python (learn-env)",
   "language": "python",
   "name": "learn-env"
  },
  "language_info": {
   "codemirror_mode": {
    "name": "ipython",
    "version": 3
   },
   "file_extension": ".py",
   "mimetype": "text/x-python",
   "name": "python",
   "nbconvert_exporter": "python",
   "pygments_lexer": "ipython3",
   "version": "3.8.11"
  }
 },
 "nbformat": 4,
 "nbformat_minor": 4
}
